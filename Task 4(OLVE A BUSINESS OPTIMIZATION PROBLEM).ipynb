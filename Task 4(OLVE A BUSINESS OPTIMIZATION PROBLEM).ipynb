{
 "cells": [
  {
   "cell_type": "code",
   "execution_count": 77,
   "id": "62cdf7be-f377-4db1-a336-23d2023ce15d",
   "metadata": {},
   "outputs": [],
   "source": [
    "import pandas as pd\n",
    "from scipy.optimize import linprog\n",
    "import matplotlib.pyplot as plt"
   ]
  },
  {
   "cell_type": "code",
   "execution_count": 78,
   "id": "e4665151-7c26-45a8-b126-36c513a5933c",
   "metadata": {},
   "outputs": [],
   "source": [
    "# Load data\n",
    "df = pd.read_csv(\"Train.csv\")"
   ]
  },
  {
   "cell_type": "code",
   "execution_count": 79,
   "id": "496a9d34-4856-4944-93ac-60f5208ea497",
   "metadata": {},
   "outputs": [
    {
     "data": {
      "text/html": [
       "<div>\n",
       "<style scoped>\n",
       "    .dataframe tbody tr th:only-of-type {\n",
       "        vertical-align: middle;\n",
       "    }\n",
       "\n",
       "    .dataframe tbody tr th {\n",
       "        vertical-align: top;\n",
       "    }\n",
       "\n",
       "    .dataframe thead th {\n",
       "        text-align: right;\n",
       "    }\n",
       "</style>\n",
       "<table border=\"1\" class=\"dataframe\">\n",
       "  <thead>\n",
       "    <tr style=\"text-align: right;\">\n",
       "      <th></th>\n",
       "      <th>ID</th>\n",
       "      <th>Warehouse_block</th>\n",
       "      <th>Mode_of_Shipment</th>\n",
       "      <th>Customer_care_calls</th>\n",
       "      <th>Customer_rating</th>\n",
       "      <th>Cost_of_the_Product</th>\n",
       "      <th>Prior_purchases</th>\n",
       "      <th>Product_importance</th>\n",
       "      <th>Gender</th>\n",
       "      <th>Discount_offered</th>\n",
       "      <th>Weight_in_gms</th>\n",
       "      <th>Reached.on.Time_Y.N</th>\n",
       "    </tr>\n",
       "  </thead>\n",
       "  <tbody>\n",
       "    <tr>\n",
       "      <th>0</th>\n",
       "      <td>1</td>\n",
       "      <td>D</td>\n",
       "      <td>Flight</td>\n",
       "      <td>4</td>\n",
       "      <td>2</td>\n",
       "      <td>177</td>\n",
       "      <td>3</td>\n",
       "      <td>low</td>\n",
       "      <td>F</td>\n",
       "      <td>44</td>\n",
       "      <td>1233</td>\n",
       "      <td>1</td>\n",
       "    </tr>\n",
       "    <tr>\n",
       "      <th>1</th>\n",
       "      <td>2</td>\n",
       "      <td>F</td>\n",
       "      <td>Flight</td>\n",
       "      <td>4</td>\n",
       "      <td>5</td>\n",
       "      <td>216</td>\n",
       "      <td>2</td>\n",
       "      <td>low</td>\n",
       "      <td>M</td>\n",
       "      <td>59</td>\n",
       "      <td>3088</td>\n",
       "      <td>1</td>\n",
       "    </tr>\n",
       "    <tr>\n",
       "      <th>2</th>\n",
       "      <td>3</td>\n",
       "      <td>A</td>\n",
       "      <td>Flight</td>\n",
       "      <td>2</td>\n",
       "      <td>2</td>\n",
       "      <td>183</td>\n",
       "      <td>4</td>\n",
       "      <td>low</td>\n",
       "      <td>M</td>\n",
       "      <td>48</td>\n",
       "      <td>3374</td>\n",
       "      <td>1</td>\n",
       "    </tr>\n",
       "    <tr>\n",
       "      <th>3</th>\n",
       "      <td>4</td>\n",
       "      <td>B</td>\n",
       "      <td>Flight</td>\n",
       "      <td>3</td>\n",
       "      <td>3</td>\n",
       "      <td>176</td>\n",
       "      <td>4</td>\n",
       "      <td>medium</td>\n",
       "      <td>M</td>\n",
       "      <td>10</td>\n",
       "      <td>1177</td>\n",
       "      <td>1</td>\n",
       "    </tr>\n",
       "    <tr>\n",
       "      <th>4</th>\n",
       "      <td>5</td>\n",
       "      <td>C</td>\n",
       "      <td>Flight</td>\n",
       "      <td>2</td>\n",
       "      <td>2</td>\n",
       "      <td>184</td>\n",
       "      <td>3</td>\n",
       "      <td>medium</td>\n",
       "      <td>F</td>\n",
       "      <td>46</td>\n",
       "      <td>2484</td>\n",
       "      <td>1</td>\n",
       "    </tr>\n",
       "  </tbody>\n",
       "</table>\n",
       "</div>"
      ],
      "text/plain": [
       "   ID Warehouse_block Mode_of_Shipment  Customer_care_calls  Customer_rating  \\\n",
       "0   1               D           Flight                    4                2   \n",
       "1   2               F           Flight                    4                5   \n",
       "2   3               A           Flight                    2                2   \n",
       "3   4               B           Flight                    3                3   \n",
       "4   5               C           Flight                    2                2   \n",
       "\n",
       "   Cost_of_the_Product  Prior_purchases Product_importance Gender  \\\n",
       "0                  177                3                low      F   \n",
       "1                  216                2                low      M   \n",
       "2                  183                4                low      M   \n",
       "3                  176                4             medium      M   \n",
       "4                  184                3             medium      F   \n",
       "\n",
       "   Discount_offered  Weight_in_gms  Reached.on.Time_Y.N  \n",
       "0                44           1233                    1  \n",
       "1                59           3088                    1  \n",
       "2                48           3374                    1  \n",
       "3                10           1177                    1  \n",
       "4                46           2484                    1  "
      ]
     },
     "execution_count": 79,
     "metadata": {},
     "output_type": "execute_result"
    }
   ],
   "source": [
    "\n",
    "df.head()\n"
   ]
  },
  {
   "cell_type": "code",
   "execution_count": 80,
   "id": "7b462b4a-5706-4724-807f-efd98ae7fc15",
   "metadata": {},
   "outputs": [],
   "source": [
    "# Select top 50 rows for optimization\n",
    "df_lp = df.head(50).copy()"
   ]
  },
  {
   "cell_type": "code",
   "execution_count": 81,
   "id": "db783e1b-dca7-48c3-aac9-4a0f38649b91",
   "metadata": {},
   "outputs": [],
   "source": [
    "# Objective function: minimize cost + discount\n",
    "c = df_lp[\"Cost_of_the_Product\"].values + df_lp[\"Discount_offered\"].values"
   ]
  },
  {
   "cell_type": "code",
   "execution_count": 82,
   "id": "0ea8f207-5bca-4623-8cc0-c3859bd52d06",
   "metadata": {},
   "outputs": [],
   "source": [
    "# Constraints:\n",
    "A = [\n",
    "    df_lp[\"Weight_in_gms\"].values,          # total weight constraint\n",
    "    df_lp[\"Discount_offered\"].values        # total discount constraint\n",
    "]\n",
    "b = [100000, 2500]  # total weight <= 100000 grams, total discount <= 2500\n"
   ]
  },
  {
   "cell_type": "code",
   "execution_count": 83,
   "id": "f8a8dbea-218e-48a3-a80c-9ec46e882ce4",
   "metadata": {},
   "outputs": [],
   "source": [
    "# Bounds (each shipment can be selected between 0 and 1 times — fractional)\n",
    "x_bounds = [(0, 1) for _ in range(len(df_lp))]"
   ]
  },
  {
   "cell_type": "code",
   "execution_count": 84,
   "id": "53fc3b9c-a1d5-4c18-9aed-79aeb53f60ee",
   "metadata": {},
   "outputs": [],
   "source": [
    "# Run optimization\n",
    "res = linprog(c=c, A_ub=A, b_ub=b, bounds=x_bounds, method=\"highs\")"
   ]
  },
  {
   "cell_type": "code",
   "execution_count": 85,
   "id": "12a17101-198b-4e3f-b40b-5cde6f9584f9",
   "metadata": {},
   "outputs": [],
   "source": [
    "# Add results\n",
    "df_lp[\"Selected_Fraction\"] = res.x"
   ]
  },
  {
   "cell_type": "code",
   "execution_count": 87,
   "id": "797cda61-e222-4f40-9fdc-c65009b5464b",
   "metadata": {},
   "outputs": [],
   "source": [
    "# Filter selected shipments\n",
    "selected = df_lp[df_lp[\"Selected_Fraction\"] > 0.01]"
   ]
  },
  {
   "cell_type": "markdown",
   "id": "cf602172-abae-49c6-ae06-3cbfcdbd85cd",
   "metadata": {},
   "source": [
    "### Plot Cost Comparison"
   ]
  },
  {
   "cell_type": "code",
   "execution_count": 89,
   "id": "75f9ce37-ce1a-465c-b1e3-05f18da5a567",
   "metadata": {},
   "outputs": [],
   "source": [
    "# Cost calculations\n",
    "original_cost = df_lp[\"Cost_of_the_Product\"].sum() + df_lp[\"Discount_offered\"].sum()"
   ]
  },
  {
   "cell_type": "code",
   "execution_count": 90,
   "id": "f66feec3-818c-46ec-a3b7-bc8d2db09093",
   "metadata": {},
   "outputs": [],
   "source": [
    "optimized_cost = sum((selected[\"Cost_of_the_Product\"] + selected[\"Discount_offered\"]) * selected[\"Selected_Fraction\"])"
   ]
  },
  {
   "cell_type": "code",
   "execution_count": 91,
   "id": "1571d470-eb18-4c6f-b3db-042473c4b3ca",
   "metadata": {},
   "outputs": [
    {
     "data": {
      "image/png": "[encoded data removed]",
      "text/plain": [
       "<Figure size 640x480 with 1 Axes>"
      ]
     },
     "metadata": {},
     "output_type": "display_data"
    },
    {
     "data": {
      "image/png": "[encoded data removed]",
      "text/plain": [
       "<Figure size 600x400 with 1 Axes>"
      ]
     },
     "metadata": {},
     "output_type": "display_data"
    }
   ],
   "source": [
    "# Plot\n",
    "plt.figure(figsize=(6,4))\n",
    "plt.bar([\"Original Cost\", \"Optimized Cost\"], [original_cost, optimized_cost], color=[\"red\", \"green\"])\n",
    "plt.ylabel(\"Total Cost (INR)\")\n",
    "plt.title(\"Cost Comparison Before vs After Optimization\")\n",
    "plt.grid(axis='y')\n",
    "plt.tight_layout()\n",
    "plt.show()"
   ]
  },
  {
   "cell_type": "code",
   "execution_count": 92,
   "id": "a2c089a4-e194-49f7-9bb6-a31c71cea69d",
   "metadata": {},
   "outputs": [
    {
     "data": {
      "text/html": [
       "<div>\n",
       "<style scoped>\n",
       "    .dataframe tbody tr th:only-of-type {\n",
       "        vertical-align: middle;\n",
       "    }\n",
       "\n",
       "    .dataframe tbody tr th {\n",
       "        vertical-align: top;\n",
       "    }\n",
       "\n",
       "    .dataframe thead th {\n",
       "        text-align: right;\n",
       "    }\n",
       "</style>\n",
       "<table border=\"1\" class=\"dataframe\">\n",
       "  <thead>\n",
       "    <tr style=\"text-align: right;\">\n",
       "      <th></th>\n",
       "      <th>ID</th>\n",
       "      <th>Cost_of_the_Product</th>\n",
       "      <th>Discount_offered</th>\n",
       "      <th>Weight_in_gms</th>\n",
       "      <th>Selected_Fraction</th>\n",
       "    </tr>\n",
       "  </thead>\n",
       "  <tbody>\n",
       "  </tbody>\n",
       "</table>\n",
       "</div>"
      ],
      "text/plain": [
       "Empty DataFrame\n",
       "Columns: [ID, Cost_of_the_Product, Discount_offered, Weight_in_gms, Selected_Fraction]\n",
       "Index: []"
      ]
     },
     "execution_count": 92,
     "metadata": {},
     "output_type": "execute_result"
    }
   ],
   "source": [
    "# Summary table\n",
    "selected[[\"ID\", \"Cost_of_the_Product\", \"Discount_offered\", \"Weight_in_gms\", \"Selected_Fraction\"]]"
   ]
  }
 ],
 "metadata": {
  "kernelspec": {
   "display_name": "Python [conda env:base] *",
   "language": "python",
   "name": "conda-base-py"
  },
  "language_info": {
   "codemirror_mode": {
    "name": "ipython",
    "version": 3
   },
   "file_extension": ".py",
   "mimetype": "text/x-python",
   "name": "python",
   "nbconvert_exporter": "python",
   "pygments_lexer": "ipython3",
   "version": "3.12.7"
  }
 },
 "nbformat": 4,
 "nbformat_minor": 5
}
