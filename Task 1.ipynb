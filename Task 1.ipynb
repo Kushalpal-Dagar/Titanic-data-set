{
 "cells": [
  {
   "cell_type": "markdown",
   "id": "d3136907-65f2-4834-868a-53c55b942595",
   "metadata": {},
   "source": [
    "# Introduction\n",
    "Purpose\n",
    "To perform data analysis on sample titanic dataset."
   ]
  },
  {
   "cell_type": "markdown",
   "id": "95d517ec-1f1c-4a2f-aaf6-203d1a6329f9",
   "metadata": {},
   "source": [
    "# Questions"
   ]
  },
  {
   "cell_type": "code",
   "execution_count": 1,
   "id": "7c8cf12e-d0e7-4463-910f-fe7711fcdce4",
   "metadata": {},
   "outputs": [],
   "source": [
    "# What factors made people more likely to survive?\n",
    "\n",
    "# Were social-economic standing a factor in survival rate?\n",
    "# Did age, regardless of sex, determine your chances of survival?\n",
    "# Did women and children have preference to lifeboats (survival)?\n",
    "# How did children with nannies fare in comparison to children with parents?\n",
    "# Assumption: We are going to assume that everyone who survived made it to a life boat and it wasn't by chance or luck."
   ]
  },
  {
   "cell_type": "markdown",
   "id": "2457304f-b1cb-4fe1-bebc-3aa9a8cf4378",
   "metadata": {},
   "source": [
    "# Data Wrangling\n",
    "Data Description\n",
    "\n",
    "survival Survival (0 = No; 1 = Yes)\n",
    "pclass Passenger Class (1 = 1st; 2 = 2nd; 3 = 3rd)\n",
    "\n",
    "\n",
    "sibsp Number of Siblings/Spouses Aboard,\n",
    "parch Number of Parents/Children Aboard,\n",
    "ticket Ticket Number,\n",
    "fare Passenger Fare,\n",
    "\n",
    "embarked Port of Embarkation (C = Cherbourg; Q = Queenstown; S = Southampton)\n",
    "SPECIAL NOTES:\n",
    "\n",
    "Pclass is a proxy for socio-economic status (SES) 1st ~ Upper; 2nd ~ Middle; 3rd ~ Lower,\n",
    "\n",
    "Age is in Years; Fractional if Age less than One (1) If the Age is Estimated, it is in the form xx.5\n",
    "\n",
    "With respect to the family relation variables (i.e. sibsp and parch) some relations were ignored. The following are the definitions used for sibsp and parch.\n",
    "\n",
    "Sibling: Brother, Sister, Stepbrother, or Stepsister of Passenger Aboard Titanic,\n",
    "Spouse: Husband or Wife of Passenger Aboard Titanic (Mistresses and Fiances Ignored),\n",
    "Parent: Mother or Father of Passenger Aboard Titanic,\n",
    "Child: Son, Daughter, Stepson, or Stepdaughter of Passenger Aboard Titanic,\n",
    "Other family relatives excluded from this study include cousins, nephews/nieces, aunts/uncles, and in-laws. Some children travelled only with a nanny, therefore parch=0 for them. As well, some travelled with very close friends or neighbors in a village, however, the definitions do not support such relations."
   ]
  },
  {
   "cell_type": "code",
   "execution_count": 4,
   "id": "fc619eb0-cc12-4eff-9a12-08f8a4ba45b0",
   "metadata": {},
   "outputs": [
    {
     "data": {
      "text/plain": [
       "Index(['PassengerId', 'Survived', 'Pclass', 'Name', 'Sex', 'Age', 'SibSp',\n",
       "       'Parch', 'Ticket', 'Fare', 'Cabin', 'Embarked'],\n",
       "      dtype='object')"
      ]
     },
     "execution_count": 4,
     "metadata": {},
     "output_type": "execute_result"
    }
   ],
   "source": [
    "import pandas\n",
    "import matplotlib.pyplot as plt\n",
    "data = pandas.read_csv('titanic.csv')\n",
    "\n",
    "data.columns"
   ]
  },
  {
   "cell_type": "code",
   "execution_count": 5,
   "id": "b4f117af-e570-4a99-ba08-df47a1424ad8",
   "metadata": {},
   "outputs": [
    {
     "data": {
      "text/html": [
       "<div>\n",
       "<style scoped>\n",
       "    .dataframe tbody tr th:only-of-type {\n",
       "        vertical-align: middle;\n",
       "    }\n",
       "\n",
       "    .dataframe tbody tr th {\n",
       "        vertical-align: top;\n",
       "    }\n",
       "\n",
       "    .dataframe thead th {\n",
       "        text-align: right;\n",
       "    }\n",
       "</style>\n",
       "<table border=\"1\" class=\"dataframe\">\n",
       "  <thead>\n",
       "    <tr style=\"text-align: right;\">\n",
       "      <th></th>\n",
       "      <th>PassengerId</th>\n",
       "      <th>Survived</th>\n",
       "      <th>Pclass</th>\n",
       "      <th>Name</th>\n",
       "      <th>Sex</th>\n",
       "      <th>Age</th>\n",
       "      <th>SibSp</th>\n",
       "      <th>Parch</th>\n",
       "      <th>Ticket</th>\n",
       "      <th>Fare</th>\n",
       "      <th>Cabin</th>\n",
       "      <th>Embarked</th>\n",
       "    </tr>\n",
       "  </thead>\n",
       "  <tbody>\n",
       "    <tr>\n",
       "      <th>0</th>\n",
       "      <td>1</td>\n",
       "      <td>0</td>\n",
       "      <td>3</td>\n",
       "      <td>Braund, Mr. Owen Harris</td>\n",
       "      <td>male</td>\n",
       "      <td>22.0</td>\n",
       "      <td>1</td>\n",
       "      <td>0</td>\n",
       "      <td>A/5 21171</td>\n",
       "      <td>7.2500</td>\n",
       "      <td>NaN</td>\n",
       "      <td>S</td>\n",
       "    </tr>\n",
       "    <tr>\n",
       "      <th>1</th>\n",
       "      <td>2</td>\n",
       "      <td>1</td>\n",
       "      <td>1</td>\n",
       "      <td>Cumings, Mrs. John Bradley (Florence Briggs Th...</td>\n",
       "      <td>female</td>\n",
       "      <td>38.0</td>\n",
       "      <td>1</td>\n",
       "      <td>0</td>\n",
       "      <td>PC 17599</td>\n",
       "      <td>71.2833</td>\n",
       "      <td>C85</td>\n",
       "      <td>C</td>\n",
       "    </tr>\n",
       "    <tr>\n",
       "      <th>2</th>\n",
       "      <td>3</td>\n",
       "      <td>1</td>\n",
       "      <td>3</td>\n",
       "      <td>Heikkinen, Miss. Laina</td>\n",
       "      <td>female</td>\n",
       "      <td>26.0</td>\n",
       "      <td>0</td>\n",
       "      <td>0</td>\n",
       "      <td>STON/O2. 3101282</td>\n",
       "      <td>7.9250</td>\n",
       "      <td>NaN</td>\n",
       "      <td>S</td>\n",
       "    </tr>\n",
       "    <tr>\n",
       "      <th>3</th>\n",
       "      <td>4</td>\n",
       "      <td>1</td>\n",
       "      <td>1</td>\n",
       "      <td>Futrelle, Mrs. Jacques Heath (Lily May Peel)</td>\n",
       "      <td>female</td>\n",
       "      <td>35.0</td>\n",
       "      <td>1</td>\n",
       "      <td>0</td>\n",
       "      <td>113803</td>\n",
       "      <td>53.1000</td>\n",
       "      <td>C123</td>\n",
       "      <td>S</td>\n",
       "    </tr>\n",
       "    <tr>\n",
       "      <th>4</th>\n",
       "      <td>5</td>\n",
       "      <td>0</td>\n",
       "      <td>3</td>\n",
       "      <td>Allen, Mr. William Henry</td>\n",
       "      <td>male</td>\n",
       "      <td>35.0</td>\n",
       "      <td>0</td>\n",
       "      <td>0</td>\n",
       "      <td>373450</td>\n",
       "      <td>8.0500</td>\n",
       "      <td>NaN</td>\n",
       "      <td>S</td>\n",
       "    </tr>\n",
       "  </tbody>\n",
       "</table>\n",
       "</div>"
      ],
      "text/plain": [
       "   PassengerId  Survived  Pclass  \\\n",
       "0            1         0       3   \n",
       "1            2         1       1   \n",
       "2            3         1       3   \n",
       "3            4         1       1   \n",
       "4            5         0       3   \n",
       "\n",
       "                                                Name     Sex   Age  SibSp  \\\n",
       "0                            Braund, Mr. Owen Harris    male  22.0      1   \n",
       "1  Cumings, Mrs. John Bradley (Florence Briggs Th...  female  38.0      1   \n",
       "2                             Heikkinen, Miss. Laina  female  26.0      0   \n",
       "3       Futrelle, Mrs. Jacques Heath (Lily May Peel)  female  35.0      1   \n",
       "4                           Allen, Mr. William Henry    male  35.0      0   \n",
       "\n",
       "   Parch            Ticket     Fare Cabin Embarked  \n",
       "0      0         A/5 21171   7.2500   NaN        S  \n",
       "1      0          PC 17599  71.2833   C85        C  \n",
       "2      0  STON/O2. 3101282   7.9250   NaN        S  \n",
       "3      0            113803  53.1000  C123        S  \n",
       "4      0            373450   8.0500   NaN        S  "
      ]
     },
     "execution_count": 5,
     "metadata": {},
     "output_type": "execute_result"
    }
   ],
   "source": [
    "data.head()"
   ]
  },
  {
   "cell_type": "code",
   "execution_count": 7,
   "id": "f91ec371-0e6d-419a-8b24-7fd242f3f159",
   "metadata": {},
   "outputs": [],
   "source": [
    "# Note: Some values for Age are NaN, while ticket and cabin values are alphanumeric and also missing values with NaN. Not a big deal but good to know. Based on current questions, will not require either Ticket or Cabin data.\n",
    "\n",
    "# Additional potential questions from reading data and data description\n",
    "\n",
    "# How did children with nannies fare in comparison to children with parents. Did the nanny \"abandon\" the child to save his/her own life?\n",
    "\n",
    "# I would need additional information to determine if a child was indeed only on board with a nanny. For example, a child could be on board with an adult sibling. This would make Parch (parent) = 0 but it would be incorrect to say the child had a nanny.\n",
    "# Need to review list for children with no siblings. These will be children with nannies; however, a child could have siblings and still have a nanny as well.\n",
    "# Did cabin location play a part in the survival rate without the consideration of class\n",
    "\n",
    "# No data on where the cabins are actually located on the Titanic\n",
    "# External source of this data could probably be found\n",
    "# Check for inconsistensies in dataset\n",
    "# In column - 'Survived'"
   ]
  },
  {
   "cell_type": "code",
   "execution_count": 18,
   "id": "5166b056-4d05-4750-b53a-c2001a906ea2",
   "metadata": {},
   "outputs": [
    {
     "name": "stdout",
     "output_type": "stream",
     "text": [
      "<class 'pandas.core.frame.DataFrame'>\n",
      "RangeIndex: 891 entries, 0 to 890\n",
      "Data columns (total 12 columns):\n",
      " #   Column       Non-Null Count  Dtype  \n",
      "---  ------       --------------  -----  \n",
      " 0   PassengerId  891 non-null    int64  \n",
      " 1   Survived     891 non-null    int64  \n",
      " 2   Pclass       891 non-null    int64  \n",
      " 3   Name         891 non-null    object \n",
      " 4   Sex          891 non-null    object \n",
      " 5   Age          714 non-null    float64\n",
      " 6   SibSp        891 non-null    int64  \n",
      " 7   Parch        891 non-null    int64  \n",
      " 8   Ticket       891 non-null    object \n",
      " 9   Fare         891 non-null    float64\n",
      " 10  Cabin        204 non-null    object \n",
      " 11  Embarked     889 non-null    object \n",
      "dtypes: float64(2), int64(5), object(5)\n",
      "memory usage: 83.7+ KB\n"
     ]
    }
   ],
   "source": [
    "data.info()"
   ]
  },
  {
   "cell_type": "code",
   "execution_count": 19,
   "id": "8f5a2611-d3aa-4061-b023-cabf5e9b07a1",
   "metadata": {},
   "outputs": [],
   "source": [
    "# Data Cleanup\n",
    "# From the data description and questions to answer, I've determined that some dataset columns will not play a part in my analysis and these columns can therefore be removed. This will decluster the dataset and also help with processing performance of the dataset.\n",
    "\n",
    "# * PassengerId\n",
    "# * Name\n",
    "# * Ticket\n",
    "# * Cabin\n",
    "# I'll take a 2 step approach to data cleanup\n",
    "\n",
    "# 1. Remove unnecessary columns\n",
    "# 2. Fix missing and data format issues\n",
    "# Step 1 - Remove unnecessary columns\n",
    "# Columns (PassengerId, Name, Ticket, Cabin) removed"
   ]
  },
  {
   "cell_type": "code",
   "execution_count": 20,
   "id": "0e689b57-046b-4f90-b528-601808615403",
   "metadata": {},
   "outputs": [
    {
     "data": {
      "text/html": [
       "<div>\n",
       "<style scoped>\n",
       "    .dataframe tbody tr th:only-of-type {\n",
       "        vertical-align: middle;\n",
       "    }\n",
       "\n",
       "    .dataframe tbody tr th {\n",
       "        vertical-align: top;\n",
       "    }\n",
       "\n",
       "    .dataframe thead th {\n",
       "        text-align: right;\n",
       "    }\n",
       "</style>\n",
       "<table border=\"1\" class=\"dataframe\">\n",
       "  <thead>\n",
       "    <tr style=\"text-align: right;\">\n",
       "      <th></th>\n",
       "      <th>Survived</th>\n",
       "      <th>Pclass</th>\n",
       "      <th>Sex</th>\n",
       "      <th>Age</th>\n",
       "      <th>SibSp</th>\n",
       "      <th>Parch</th>\n",
       "      <th>Fare</th>\n",
       "      <th>Embarked</th>\n",
       "    </tr>\n",
       "  </thead>\n",
       "  <tbody>\n",
       "    <tr>\n",
       "      <th>0</th>\n",
       "      <td>0</td>\n",
       "      <td>3</td>\n",
       "      <td>male</td>\n",
       "      <td>22.0</td>\n",
       "      <td>1</td>\n",
       "      <td>0</td>\n",
       "      <td>7.2500</td>\n",
       "      <td>S</td>\n",
       "    </tr>\n",
       "    <tr>\n",
       "      <th>1</th>\n",
       "      <td>1</td>\n",
       "      <td>1</td>\n",
       "      <td>female</td>\n",
       "      <td>38.0</td>\n",
       "      <td>1</td>\n",
       "      <td>0</td>\n",
       "      <td>71.2833</td>\n",
       "      <td>C</td>\n",
       "    </tr>\n",
       "    <tr>\n",
       "      <th>2</th>\n",
       "      <td>1</td>\n",
       "      <td>3</td>\n",
       "      <td>female</td>\n",
       "      <td>26.0</td>\n",
       "      <td>0</td>\n",
       "      <td>0</td>\n",
       "      <td>7.9250</td>\n",
       "      <td>S</td>\n",
       "    </tr>\n",
       "    <tr>\n",
       "      <th>3</th>\n",
       "      <td>1</td>\n",
       "      <td>1</td>\n",
       "      <td>female</td>\n",
       "      <td>35.0</td>\n",
       "      <td>1</td>\n",
       "      <td>0</td>\n",
       "      <td>53.1000</td>\n",
       "      <td>S</td>\n",
       "    </tr>\n",
       "    <tr>\n",
       "      <th>4</th>\n",
       "      <td>0</td>\n",
       "      <td>3</td>\n",
       "      <td>male</td>\n",
       "      <td>35.0</td>\n",
       "      <td>0</td>\n",
       "      <td>0</td>\n",
       "      <td>8.0500</td>\n",
       "      <td>S</td>\n",
       "    </tr>\n",
       "  </tbody>\n",
       "</table>\n",
       "</div>"
      ],
      "text/plain": [
       "   Survived  Pclass     Sex   Age  SibSp  Parch     Fare Embarked\n",
       "0         0       3    male  22.0      1      0   7.2500        S\n",
       "1         1       1  female  38.0      1      0  71.2833        C\n",
       "2         1       3  female  26.0      0      0   7.9250        S\n",
       "3         1       1  female  35.0      1      0  53.1000        S\n",
       "4         0       3    male  35.0      0      0   8.0500        S"
      ]
     },
     "execution_count": 20,
     "metadata": {},
     "output_type": "execute_result"
    }
   ],
   "source": [
    "titanic_data = data.drop(['PassengerId', 'Name', 'Ticket', 'Cabin'], axis=1)\n",
    "titanic_data.head()"
   ]
  },
  {
   "cell_type": "code",
   "execution_count": 21,
   "id": "8414056a-4c56-4ebd-b12c-4114049eb9a7",
   "metadata": {},
   "outputs": [
    {
     "data": {
      "text/plain": [
       "Survived      0\n",
       "Pclass        0\n",
       "Sex           0\n",
       "Age         177\n",
       "SibSp         0\n",
       "Parch         0\n",
       "Fare          0\n",
       "Embarked      2\n",
       "dtype: int64"
      ]
     },
     "execution_count": 21,
     "metadata": {},
     "output_type": "execute_result"
    }
   ],
   "source": [
    "# Step 2: Fix any missing or data format issues\n",
    "titanic_data.isnull().sum()"
   ]
  },
  {
   "cell_type": "code",
   "execution_count": 22,
   "id": "f88e8b33-90f6-483f-878f-3af82dd1e124",
   "metadata": {},
   "outputs": [
    {
     "data": {
      "text/html": [
       "<div>\n",
       "<style scoped>\n",
       "    .dataframe tbody tr th:only-of-type {\n",
       "        vertical-align: middle;\n",
       "    }\n",
       "\n",
       "    .dataframe tbody tr th {\n",
       "        vertical-align: top;\n",
       "    }\n",
       "\n",
       "    .dataframe thead th {\n",
       "        text-align: right;\n",
       "    }\n",
       "</style>\n",
       "<table border=\"1\" class=\"dataframe\">\n",
       "  <thead>\n",
       "    <tr style=\"text-align: right;\">\n",
       "      <th></th>\n",
       "      <th>Survived</th>\n",
       "      <th>Pclass</th>\n",
       "      <th>Sex</th>\n",
       "      <th>Age</th>\n",
       "      <th>SibSp</th>\n",
       "      <th>Parch</th>\n",
       "      <th>Fare</th>\n",
       "      <th>Embarked</th>\n",
       "    </tr>\n",
       "  </thead>\n",
       "  <tbody>\n",
       "    <tr>\n",
       "      <th>5</th>\n",
       "      <td>0</td>\n",
       "      <td>3</td>\n",
       "      <td>male</td>\n",
       "      <td>NaN</td>\n",
       "      <td>0</td>\n",
       "      <td>0</td>\n",
       "      <td>8.4583</td>\n",
       "      <td>Q</td>\n",
       "    </tr>\n",
       "    <tr>\n",
       "      <th>17</th>\n",
       "      <td>1</td>\n",
       "      <td>2</td>\n",
       "      <td>male</td>\n",
       "      <td>NaN</td>\n",
       "      <td>0</td>\n",
       "      <td>0</td>\n",
       "      <td>13.0000</td>\n",
       "      <td>S</td>\n",
       "    </tr>\n",
       "    <tr>\n",
       "      <th>19</th>\n",
       "      <td>1</td>\n",
       "      <td>3</td>\n",
       "      <td>female</td>\n",
       "      <td>NaN</td>\n",
       "      <td>0</td>\n",
       "      <td>0</td>\n",
       "      <td>7.2250</td>\n",
       "      <td>C</td>\n",
       "    </tr>\n",
       "    <tr>\n",
       "      <th>26</th>\n",
       "      <td>0</td>\n",
       "      <td>3</td>\n",
       "      <td>male</td>\n",
       "      <td>NaN</td>\n",
       "      <td>0</td>\n",
       "      <td>0</td>\n",
       "      <td>7.2250</td>\n",
       "      <td>C</td>\n",
       "    </tr>\n",
       "    <tr>\n",
       "      <th>28</th>\n",
       "      <td>1</td>\n",
       "      <td>3</td>\n",
       "      <td>female</td>\n",
       "      <td>NaN</td>\n",
       "      <td>0</td>\n",
       "      <td>0</td>\n",
       "      <td>7.8792</td>\n",
       "      <td>Q</td>\n",
       "    </tr>\n",
       "  </tbody>\n",
       "</table>\n",
       "</div>"
      ],
      "text/plain": [
       "    Survived  Pclass     Sex  Age  SibSp  Parch     Fare Embarked\n",
       "5          0       3    male  NaN      0      0   8.4583        Q\n",
       "17         1       2    male  NaN      0      0  13.0000        S\n",
       "19         1       3  female  NaN      0      0   7.2250        C\n",
       "26         0       3    male  NaN      0      0   7.2250        C\n",
       "28         1       3  female  NaN      0      0   7.8792        Q"
      ]
     },
     "execution_count": 22,
     "metadata": {},
     "output_type": "execute_result"
    }
   ],
   "source": [
    "missing_age_bool = pandas.isnull(titanic_data['Age'])\n",
    "titanic_data[missing_age_bool].head()"
   ]
  },
  {
   "cell_type": "code",
   "execution_count": 37,
   "id": "de968d58-abfb-4de9-b038-acabfcf1bb7c",
   "metadata": {},
   "outputs": [],
   "source": [
    "missing_age_male = titanic_data[missing_age_bool]['Sex']=='male'\n",
    "missing_age_female = titanic_data[missing_age_bool]['Sex']=='female'"
   ]
  },
  {
   "cell_type": "code",
   "execution_count": 44,
   "id": "05bcd0dd-f237-47e1-ad21-14c8c2c1256c",
   "metadata": {},
   "outputs": [
    {
     "data": {
      "text/plain": [
       "124"
      ]
     },
     "execution_count": 44,
     "metadata": {},
     "output_type": "execute_result"
    }
   ],
   "source": [
    "missing_age_male.sum()"
   ]
  },
  {
   "cell_type": "code",
   "execution_count": 45,
   "id": "7fb61819-7e61-4f78-89cc-d5387c19ac75",
   "metadata": {},
   "outputs": [
    {
     "data": {
      "text/plain": [
       "53"
      ]
     },
     "execution_count": 45,
     "metadata": {},
     "output_type": "execute_result"
    }
   ],
   "source": [
    "missing_age_female.sum()"
   ]
  },
  {
   "cell_type": "code",
   "execution_count": 46,
   "id": "aab04ff9-f127-4516-869a-2aa59fdd50f6",
   "metadata": {},
   "outputs": [],
   "source": [
    "# Should keep note of the proportions across male and female...\n",
    "\n",
    "# Age missing in male data: 124\n",
    "# Age missing in female data: 53"
   ]
  },
  {
   "cell_type": "code",
   "execution_count": 47,
   "id": "cdf8a2c7-fcbf-49ba-a422-8a7b051f3937",
   "metadata": {},
   "outputs": [],
   "source": [
    "# Data Exploration and Visualisation\n",
    "# Looking at some descriptive statistics"
   ]
  },
  {
   "cell_type": "code",
   "execution_count": 48,
   "id": "a7e5dd5f-21ac-48f3-a465-9a1246f4ec3e",
   "metadata": {},
   "outputs": [
    {
     "data": {
      "text/html": [
       "<div>\n",
       "<style scoped>\n",
       "    .dataframe tbody tr th:only-of-type {\n",
       "        vertical-align: middle;\n",
       "    }\n",
       "\n",
       "    .dataframe tbody tr th {\n",
       "        vertical-align: top;\n",
       "    }\n",
       "\n",
       "    .dataframe thead th {\n",
       "        text-align: right;\n",
       "    }\n",
       "</style>\n",
       "<table border=\"1\" class=\"dataframe\">\n",
       "  <thead>\n",
       "    <tr style=\"text-align: right;\">\n",
       "      <th></th>\n",
       "      <th>PassengerId</th>\n",
       "      <th>Survived</th>\n",
       "      <th>Pclass</th>\n",
       "      <th>Age</th>\n",
       "      <th>SibSp</th>\n",
       "      <th>Parch</th>\n",
       "      <th>Fare</th>\n",
       "    </tr>\n",
       "  </thead>\n",
       "  <tbody>\n",
       "    <tr>\n",
       "      <th>count</th>\n",
       "      <td>891.000000</td>\n",
       "      <td>891.000000</td>\n",
       "      <td>891.000000</td>\n",
       "      <td>714.000000</td>\n",
       "      <td>891.000000</td>\n",
       "      <td>891.000000</td>\n",
       "      <td>891.000000</td>\n",
       "    </tr>\n",
       "    <tr>\n",
       "      <th>mean</th>\n",
       "      <td>446.000000</td>\n",
       "      <td>0.383838</td>\n",
       "      <td>2.308642</td>\n",
       "      <td>29.699118</td>\n",
       "      <td>0.523008</td>\n",
       "      <td>0.381594</td>\n",
       "      <td>32.204208</td>\n",
       "    </tr>\n",
       "    <tr>\n",
       "      <th>std</th>\n",
       "      <td>257.353842</td>\n",
       "      <td>0.486592</td>\n",
       "      <td>0.836071</td>\n",
       "      <td>14.526497</td>\n",
       "      <td>1.102743</td>\n",
       "      <td>0.806057</td>\n",
       "      <td>49.693429</td>\n",
       "    </tr>\n",
       "    <tr>\n",
       "      <th>min</th>\n",
       "      <td>1.000000</td>\n",
       "      <td>0.000000</td>\n",
       "      <td>1.000000</td>\n",
       "      <td>0.420000</td>\n",
       "      <td>0.000000</td>\n",
       "      <td>0.000000</td>\n",
       "      <td>0.000000</td>\n",
       "    </tr>\n",
       "    <tr>\n",
       "      <th>25%</th>\n",
       "      <td>223.500000</td>\n",
       "      <td>0.000000</td>\n",
       "      <td>2.000000</td>\n",
       "      <td>20.125000</td>\n",
       "      <td>0.000000</td>\n",
       "      <td>0.000000</td>\n",
       "      <td>7.910400</td>\n",
       "    </tr>\n",
       "    <tr>\n",
       "      <th>50%</th>\n",
       "      <td>446.000000</td>\n",
       "      <td>0.000000</td>\n",
       "      <td>3.000000</td>\n",
       "      <td>28.000000</td>\n",
       "      <td>0.000000</td>\n",
       "      <td>0.000000</td>\n",
       "      <td>14.454200</td>\n",
       "    </tr>\n",
       "    <tr>\n",
       "      <th>75%</th>\n",
       "      <td>668.500000</td>\n",
       "      <td>1.000000</td>\n",
       "      <td>3.000000</td>\n",
       "      <td>38.000000</td>\n",
       "      <td>1.000000</td>\n",
       "      <td>0.000000</td>\n",
       "      <td>31.000000</td>\n",
       "    </tr>\n",
       "    <tr>\n",
       "      <th>max</th>\n",
       "      <td>891.000000</td>\n",
       "      <td>1.000000</td>\n",
       "      <td>3.000000</td>\n",
       "      <td>80.000000</td>\n",
       "      <td>8.000000</td>\n",
       "      <td>6.000000</td>\n",
       "      <td>512.329200</td>\n",
       "    </tr>\n",
       "  </tbody>\n",
       "</table>\n",
       "</div>"
      ],
      "text/plain": [
       "       PassengerId    Survived      Pclass         Age       SibSp  \\\n",
       "count   891.000000  891.000000  891.000000  714.000000  891.000000   \n",
       "mean    446.000000    0.383838    2.308642   29.699118    0.523008   \n",
       "std     257.353842    0.486592    0.836071   14.526497    1.102743   \n",
       "min       1.000000    0.000000    1.000000    0.420000    0.000000   \n",
       "25%     223.500000    0.000000    2.000000   20.125000    0.000000   \n",
       "50%     446.000000    0.000000    3.000000   28.000000    0.000000   \n",
       "75%     668.500000    1.000000    3.000000   38.000000    1.000000   \n",
       "max     891.000000    1.000000    3.000000   80.000000    8.000000   \n",
       "\n",
       "            Parch        Fare  \n",
       "count  891.000000  891.000000  \n",
       "mean     0.381594   32.204208  \n",
       "std      0.806057   49.693429  \n",
       "min      0.000000    0.000000  \n",
       "25%      0.000000    7.910400  \n",
       "50%      0.000000   14.454200  \n",
       "75%      0.000000   31.000000  \n",
       "max      6.000000  512.329200  "
      ]
     },
     "execution_count": 48,
     "metadata": {},
     "output_type": "execute_result"
    }
   ],
   "source": [
    "data.describe()"
   ]
  },
  {
   "cell_type": "code",
   "execution_count": 49,
   "id": "f56fd683-fa19-4449-952c-fa0320839355",
   "metadata": {},
   "outputs": [],
   "source": [
    "youngest_to_survive = titanic_data[titanic_data['Survived'] == 1]['Age'].min()\n",
    "youngest_to_die = titanic_data[titanic_data['Survived'] == 0]['Age'].min()\n",
    "oldest_to_survive = titanic_data[titanic_data['Survived'] == 1]['Age'].max()\n",
    "oldest_to_die = titanic_data[titanic_data['Survived'] == 0]['Age'].max()"
   ]
  },
  {
   "cell_type": "code",
   "execution_count": 52,
   "id": "42371269-df14-4a49-9640-90e3287e19ff",
   "metadata": {},
   "outputs": [
    {
     "data": {
      "text/plain": [
       "0.42"
      ]
     },
     "execution_count": 52,
     "metadata": {},
     "output_type": "execute_result"
    }
   ],
   "source": [
    "youngest_to_survive"
   ]
  },
  {
   "cell_type": "code",
   "execution_count": 53,
   "id": "f14636da-7e92-4644-b80e-55eb778f28d5",
   "metadata": {},
   "outputs": [
    {
     "data": {
      "text/plain": [
       "1.0"
      ]
     },
     "execution_count": 53,
     "metadata": {},
     "output_type": "execute_result"
    }
   ],
   "source": [
    "youngest_to_die"
   ]
  },
  {
   "cell_type": "code",
   "execution_count": 54,
   "id": "ad09fec1-0829-4a90-b5f6-b95e392e36bd",
   "metadata": {},
   "outputs": [
    {
     "data": {
      "text/plain": [
       "80.0"
      ]
     },
     "execution_count": 54,
     "metadata": {},
     "output_type": "execute_result"
    }
   ],
   "source": [
    "oldest_to_survive"
   ]
  },
  {
   "cell_type": "code",
   "execution_count": 55,
   "id": "a7208d71-265a-4b42-9717-6bf846e77331",
   "metadata": {},
   "outputs": [
    {
     "data": {
      "text/plain": [
       "74.0"
      ]
     },
     "execution_count": 55,
     "metadata": {},
     "output_type": "execute_result"
    }
   ],
   "source": [
    "oldest_to_die"
   ]
  },
  {
   "cell_type": "code",
   "execution_count": 56,
   "id": "510e9b3e-3ce1-4243-a9a4-4039506de9f9",
   "metadata": {},
   "outputs": [],
   "source": [
    "# Note: An interesting note is that all \"new borns\" survived."
   ]
  },
  {
   "cell_type": "markdown",
   "id": "95e3f28f-da68-4c76-bad6-1d98e4333a42",
   "metadata": {},
   "source": [
    "# Question 1 :\n",
    "Were social-economic standing a factor in survival rate?\n",
    "\n",
    "Number of males and females survived in each class"
   ]
  },
  {
   "cell_type": "code",
   "execution_count": 57,
   "id": "a1503010-5e9e-4a38-be46-2017b0a3e5d4",
   "metadata": {},
   "outputs": [
    {
     "name": "stdout",
     "output_type": "stream",
     "text": [
      "Pclass  Survived  Sex   \n",
      "1       0         female      3\n",
      "                  male       77\n",
      "        1         female     91\n",
      "                  male       45\n",
      "2       0         female      6\n",
      "                  male       91\n",
      "        1         female     70\n",
      "                  male       17\n",
      "3       0         female     72\n",
      "                  male      300\n",
      "        1         female     72\n",
      "                  male       47\n",
      "dtype: int64\n"
     ]
    }
   ],
   "source": [
    "group_by_class_survival = titanic_data.groupby(['Pclass', 'Survived', 'Sex']).size()\n",
    "print(group_by_class_survival)"
   ]
  },
  {
   "cell_type": "code",
   "execution_count": 60,
   "id": "5d35def0-a833-47b0-b357-4554498f5464",
   "metadata": {},
   "outputs": [
    {
     "name": "stdout",
     "output_type": "stream",
     "text": [
      "Effect of social economy in survival rate : \n",
      "\n",
      "Total numbers of male of class 1 - 122.0\n",
      "Total numbers of male of class 1 who survived - 45.0\n",
      "Class 1 - Male survival rate :\n",
      " 36.89 %\n",
      "\n",
      "Total numbers of female of class 1 - 94.0\n",
      "Total numbers of female of class 1 who survived - 91.0\n",
      "Class 1 - Female survival rate \n",
      ": 96.81 %\n",
      "\n",
      "-------------\n",
      "\n",
      "Total numbers of male of class 2 - 108.0\n",
      "Total numbers of male of class 2 who survived - 17.0\n",
      "Class 2 - Male survival rate :\n",
      " 15.74 %\n",
      "\n",
      "Total numbers of female of class 2 - 76.0\n",
      "Total numbers of female of class 2 who survived - 70.0\n",
      "Class 2 - Female survival rate:\n",
      " 92.11 %\n",
      "\n",
      "-------------\n",
      "\n",
      "Total numbers of male of class 3 - 347.0\n",
      "Total numbers of male of class 3 who survived - 47.0\n",
      "Class 3 - Male survival rate :\n",
      " 13.54 %\n",
      "\n",
      "Total numbers of female of class 3 - 144.0\n",
      "Total numbers of female of class 3 who survived - 72.0\n",
      "Class 3 - Female survival rate :\n",
      " 50.0 %\n",
      "\n"
     ]
    }
   ],
   "source": [
    "def survival(pclass, sex):\n",
    "    group_by_class = titanic_data.groupby(['Pclass', 'Sex']).size()[pclass, sex].astype('float')\n",
    "    group_by_class_survived = titanic_data.groupby(['Pclass', 'Survived', 'Sex']).size()[pclass, 1, sex].astype('float')\n",
    "    \n",
    "    print ('Total numbers of',sex,'of class',pclass,'-',group_by_class)\n",
    "    print ('Total numbers of',sex,'of class',pclass,'who survived -',group_by_class_survived)\n",
    "    survival_rate = ((group_by_class_survived/group_by_class)*100).round(2)\n",
    "    return survival_rate\n",
    "    print ('\\n\\n')\n",
    "    \n",
    "print ('Effect of social economy in survival rate : \\n')\n",
    "print ('Class 1 - Male survival rate :\\n',survival(1, 'male'),'%\\n')\n",
    "print ('Class 1 - Female survival rate \\n:',survival(1, 'female'),'%\\n')\n",
    "print ('-------------\\n')\n",
    "print ('Class 2 - Male survival rate :\\n',survival(2, 'male'),'%\\n')\n",
    "print ('Class 2 - Female survival rate:\\n',survival(2, 'female'),'%\\n')\n",
    "print ('-------------\\n')\n",
    "print ('Class 3 - Male survival rate :\\n',survival(3, 'male'),'%\\n')\n",
    "print ('Class 3 - Female survival rate :\\n',survival(3, 'female'),'%\\n')"
   ]
  },
  {
   "cell_type": "code",
   "execution_count": 61,
   "id": "472f528b-8997-492d-97c9-5ae8018eb454",
   "metadata": {},
   "outputs": [
    {
     "data": {
      "text/plain": [
       "<Axes: xlabel='Sex'>"
      ]
     },
     "execution_count": 61,
     "metadata": {},
     "output_type": "execute_result"
    }
   ],
   "source": [
    "%matplotlib inline\n",
    "titanic_data_survived = titanic_data\n",
    "titanic_data_survived_grouped = titanic_data_survived.groupby(['Sex']).Survived.mean()*100\n",
    "titanic_data_survived_grouped.plot(kind = 'bar')"
   ]
  },
  {
   "cell_type": "code",
   "execution_count": 62,
   "id": "8b85127f-8a81-47a9-8556-ac58fa321623",
   "metadata": {},
   "outputs": [
    {
     "data": {
      "text/plain": [
       "<Axes: xlabel='Sex,Pclass'>"
      ]
     },
     "execution_count": 62,
     "metadata": {},
     "output_type": "execute_result"
    }
   ],
   "source": [
    "titanic_data_survived = titanic_data\n",
    "titanic_data_survived_grouped = titanic_data_survived.groupby(['Sex', 'Pclass']).Survived.mean()*100\n",
    "titanic_data_survived_grouped.plot(kind = 'bar')"
   ]
  },
  {
   "cell_type": "markdown",
   "id": "f63d87e7-5f63-4f38-81fd-292ce3a846e9",
   "metadata": {},
   "source": [
    "# titanic_data_survived = titanic_data\n",
    "titanic_data_survived_grouped = titanic_data_survived.groupby(['Sex', 'Pclass']).Survived.mean()*100\n",
    "titanic_data_survived_grouped.plot(kind = 'bar')"
   ]
  },
  {
   "cell_type": "markdown",
   "id": "5d316397-5dcb-4175-85ce-5bb6bb2862fb",
   "metadata": {},
   "source": [
    "# Question 2\n",
    "Did age, regardless of sex and class, determine your chances of survival?"
   ]
  },
  {
   "cell_type": "code",
   "execution_count": 66,
   "id": "11048585-e1d6-462c-ba0a-b8ba214d406d",
   "metadata": {},
   "outputs": [
    {
     "name": "stdout",
     "output_type": "stream",
     "text": [
      "Total number of passengers below 18 : 113\n",
      "Total number of passengers below 18 who survived : 61\n",
      "\n",
      "\n",
      "Total number of passengers below 50 : 501\n",
      "Total number of passengers below 50 who survived : 193\n",
      "\n",
      "\n",
      "Total number of passengers above 50 : 64\n",
      "Total number of passengers above 50 who survived : 22\n",
      "\n",
      "\n",
      "Below 18 survival rate : 53.98230088495575\n",
      "Between 18 and 50 survival rate : 38.522954091816366\n",
      "Above 50 survival rate : 34.375\n"
     ]
    },
    {
     "name": "stderr",
     "output_type": "stream",
     "text": [
      "C:\\Users\\kusha\\AppData\\Local\\Temp\\ipykernel_32852\\2700578571.py:3: UserWarning: Boolean Series key will be reindexed to match DataFrame index.\n",
      "  age_below_18_survived = len(titanic_data[titanic_data['Age']<18][titanic_data['Survived']==1])\n",
      "C:\\Users\\kusha\\AppData\\Local\\Temp\\ipykernel_32852\\2700578571.py:7: UserWarning: Boolean Series key will be reindexed to match DataFrame index.\n",
      "  age_below_50 = len(titanic_data[titanic_data['Age']>18][titanic_data['Age']<50])\n",
      "C:\\Users\\kusha\\AppData\\Local\\Temp\\ipykernel_32852\\2700578571.py:9: UserWarning: Boolean Series key will be reindexed to match DataFrame index.\n",
      "  age_below_50_survived = len(titanic_data[titanic_data['Age']>18][titanic_data['Age']<50][titanic_data['Survived']==1])\n",
      "C:\\Users\\kusha\\AppData\\Local\\Temp\\ipykernel_32852\\2700578571.py:9: UserWarning: Boolean Series key will be reindexed to match DataFrame index.\n",
      "  age_below_50_survived = len(titanic_data[titanic_data['Age']>18][titanic_data['Age']<50][titanic_data['Survived']==1])\n",
      "C:\\Users\\kusha\\AppData\\Local\\Temp\\ipykernel_32852\\2700578571.py:15: UserWarning: Boolean Series key will be reindexed to match DataFrame index.\n",
      "  age_above_50_survived = len(titanic_data[titanic_data['Age']>50][titanic_data['Survived']==1])\n"
     ]
    }
   ],
   "source": [
    "age_below_18 = len(titanic_data[titanic_data['Age']<18])\n",
    "print ('Total number of passengers below 18 :',age_below_18)\n",
    "age_below_18_survived = len(titanic_data[titanic_data['Age']<18][titanic_data['Survived']==1])\n",
    "print ('Total number of passengers below 18 who survived :',age_below_18_survived)\n",
    "print ('\\n')\n",
    "\n",
    "age_below_50 = len(titanic_data[titanic_data['Age']>18][titanic_data['Age']<50])\n",
    "print ('Total number of passengers below 50 :',age_below_50)\n",
    "age_below_50_survived = len(titanic_data[titanic_data['Age']>18][titanic_data['Age']<50][titanic_data['Survived']==1])\n",
    "print ('Total number of passengers below 50 who survived :',age_below_50_survived)\n",
    "print ('\\n')\n",
    "\n",
    "age_above_50 = len(titanic_data[titanic_data['Age']>50])\n",
    "print ('Total number of passengers above 50 :',age_above_50)\n",
    "age_above_50_survived = len(titanic_data[titanic_data['Age']>50][titanic_data['Survived']==1])\n",
    "print ('Total number of passengers above 50 who survived :',age_above_50_survived)\n",
    "print ('\\n')\n",
    "\n",
    "print ('Below 18 survival rate :',((float(age_below_18_survived)/age_below_18)*100))\n",
    "print ('Between 18 and 50 survival rate :',((float(age_below_50_survived)/age_below_50)*100))\n",
    "print ('Above 50 survival rate :',((float(age_above_50_survived)/age_above_50)*100))"
   ]
  },
  {
   "cell_type": "code",
   "execution_count": 67,
   "id": "e362a461-8ee4-438f-be7a-5a968c6d05fd",
   "metadata": {},
   "outputs": [
    {
     "name": "stdout",
     "output_type": "stream",
     "text": [
      "Total Survivors :  288\n",
      "Total Non-Survivors : 424\n",
      "Total Survivors Mean Age: 28.19329861111111\n",
      "Total Non-Survivors Mean Age: 30.62617924528302\n"
     ]
    }
   ],
   "source": [
    "cleaned_age_data = titanic_data.dropna()\n",
    "total_survivors = cleaned_age_data[cleaned_age_data['Survived']==1]['Age'].count()\n",
    "total_non_survivors = cleaned_age_data[cleaned_age_data['Survived']==0]['Age'].count()\n",
    "total_survivors_mean = cleaned_age_data[cleaned_age_data['Survived']==1]['Age'].mean()\n",
    "total_non_survivors_mean = cleaned_age_data[cleaned_age_data['Survived']==0]['Age'].mean()\n",
    "\n",
    "print ('Total Survivors : ',total_survivors)\n",
    "print ('Total Non-Survivors :',total_non_survivors)\n",
    "print ('Total Survivors Mean Age:',total_survivors_mean)\n",
    "print ('Total Non-Survivors Mean Age:',total_non_survivors_mean)"
   ]
  },
  {
   "cell_type": "code",
   "execution_count": 70,
   "id": "d045aca4-6b3e-4294-b161-c3f57af9e4f6",
   "metadata": {},
   "outputs": [],
   "source": [
    "cleaned_age_data.loc[(cleaned_age_data['Age']<18),'Age_Category'] = 'Young Aged'\n",
    "cleaned_age_data.loc[(cleaned_age_data['Age']>17) & (cleaned_age_data['Age']<50),'Age_Category'] = 'Middle Aged'\n",
    "cleaned_age_data.loc[(cleaned_age_data['Age']>50),'Age_Category'] = 'Old Aged'"
   ]
  },
  {
   "cell_type": "code",
   "execution_count": 71,
   "id": "5a8fd300-d251-4913-8b5f-e57bb91b5342",
   "metadata": {},
   "outputs": [
    {
     "data": {
      "text/html": [
       "<div>\n",
       "<style scoped>\n",
       "    .dataframe tbody tr th:only-of-type {\n",
       "        vertical-align: middle;\n",
       "    }\n",
       "\n",
       "    .dataframe tbody tr th {\n",
       "        vertical-align: top;\n",
       "    }\n",
       "\n",
       "    .dataframe thead th {\n",
       "        text-align: right;\n",
       "    }\n",
       "</style>\n",
       "<table border=\"1\" class=\"dataframe\">\n",
       "  <thead>\n",
       "    <tr style=\"text-align: right;\">\n",
       "      <th></th>\n",
       "      <th>Survived</th>\n",
       "      <th>Pclass</th>\n",
       "      <th>Sex</th>\n",
       "      <th>Age</th>\n",
       "      <th>SibSp</th>\n",
       "      <th>Parch</th>\n",
       "      <th>Fare</th>\n",
       "      <th>Embarked</th>\n",
       "      <th>Age_Category</th>\n",
       "    </tr>\n",
       "  </thead>\n",
       "  <tbody>\n",
       "    <tr>\n",
       "      <th>0</th>\n",
       "      <td>0</td>\n",
       "      <td>3</td>\n",
       "      <td>male</td>\n",
       "      <td>22.0</td>\n",
       "      <td>1</td>\n",
       "      <td>0</td>\n",
       "      <td>7.2500</td>\n",
       "      <td>S</td>\n",
       "      <td>Middle Aged</td>\n",
       "    </tr>\n",
       "    <tr>\n",
       "      <th>1</th>\n",
       "      <td>1</td>\n",
       "      <td>1</td>\n",
       "      <td>female</td>\n",
       "      <td>38.0</td>\n",
       "      <td>1</td>\n",
       "      <td>0</td>\n",
       "      <td>71.2833</td>\n",
       "      <td>C</td>\n",
       "      <td>Middle Aged</td>\n",
       "    </tr>\n",
       "    <tr>\n",
       "      <th>2</th>\n",
       "      <td>1</td>\n",
       "      <td>3</td>\n",
       "      <td>female</td>\n",
       "      <td>26.0</td>\n",
       "      <td>0</td>\n",
       "      <td>0</td>\n",
       "      <td>7.9250</td>\n",
       "      <td>S</td>\n",
       "      <td>Middle Aged</td>\n",
       "    </tr>\n",
       "    <tr>\n",
       "      <th>3</th>\n",
       "      <td>1</td>\n",
       "      <td>1</td>\n",
       "      <td>female</td>\n",
       "      <td>35.0</td>\n",
       "      <td>1</td>\n",
       "      <td>0</td>\n",
       "      <td>53.1000</td>\n",
       "      <td>S</td>\n",
       "      <td>Middle Aged</td>\n",
       "    </tr>\n",
       "    <tr>\n",
       "      <th>4</th>\n",
       "      <td>0</td>\n",
       "      <td>3</td>\n",
       "      <td>male</td>\n",
       "      <td>35.0</td>\n",
       "      <td>0</td>\n",
       "      <td>0</td>\n",
       "      <td>8.0500</td>\n",
       "      <td>S</td>\n",
       "      <td>Middle Aged</td>\n",
       "    </tr>\n",
       "  </tbody>\n",
       "</table>\n",
       "</div>"
      ],
      "text/plain": [
       "   Survived  Pclass     Sex   Age  SibSp  Parch     Fare Embarked Age_Category\n",
       "0         0       3    male  22.0      1      0   7.2500        S  Middle Aged\n",
       "1         1       1  female  38.0      1      0  71.2833        C  Middle Aged\n",
       "2         1       3  female  26.0      0      0   7.9250        S  Middle Aged\n",
       "3         1       1  female  35.0      1      0  53.1000        S  Middle Aged\n",
       "4         0       3    male  35.0      0      0   8.0500        S  Middle Aged"
      ]
     },
     "execution_count": 71,
     "metadata": {},
     "output_type": "execute_result"
    }
   ],
   "source": [
    "cleaned_age_data.head()"
   ]
  },
  {
   "cell_type": "code",
   "execution_count": 72,
   "id": "675f956d-6846-47cd-bbca-39e8ddf2e671",
   "metadata": {},
   "outputs": [
    {
     "data": {
      "text/plain": [
       "<Axes: xlabel='Age_Category'>"
      ]
     },
     "execution_count": 72,
     "metadata": {},
     "output_type": "execute_result"
    }
   ],
   "source": [
    "titanic_data_grouped_by_age_category = cleaned_age_data\n",
    "titanic_data_survival_by_age = (titanic_data_grouped_by_age_category.groupby(['Age_Category']).Survived.mean()*100).sort_values()\n",
    "titanic_data_survival_by_age.plot(kind = 'bar')"
   ]
  },
  {
   "cell_type": "markdown",
   "id": "b01856d0-3151-41bf-b6de-ebf9c2b13f58",
   "metadata": {},
   "source": [
    "# Question 3\n",
    "Did women and children have preference to lifeboats and therefore survival (assuming there was no shortage of lifeboats)?\n",
    "\n",
    "Assumption: With \"child\" not classified in the data, I'll need to assume a cutoff point. Therefore, I'll be using today's standard of under 18 as those to be considered as a child vs adult."
   ]
  },
  {
   "cell_type": "code",
   "execution_count": 74,
   "id": "dfcc4360-936c-4bfd-8c45-d9b11742639f",
   "metadata": {},
   "outputs": [],
   "source": [
    "cleaned_age_data.loc[((cleaned_age_data['Sex']=='female') & (cleaned_age_data['Age']>=18)), 'Category'] = 'Woman'\n",
    "cleaned_age_data.loc[(cleaned_age_data['Sex']=='male') & (cleaned_age_data['Age']>=18), 'Category'] = 'Man'\n",
    "cleaned_age_data.loc[(cleaned_age_data['Age'] < 18),'Category'] = 'Child'"
   ]
  },
  {
   "cell_type": "code",
   "execution_count": 75,
   "id": "01d9a4fa-a548-4338-b26c-d3586d09772f",
   "metadata": {},
   "outputs": [
    {
     "data": {
      "text/html": [
       "<div>\n",
       "<style scoped>\n",
       "    .dataframe tbody tr th:only-of-type {\n",
       "        vertical-align: middle;\n",
       "    }\n",
       "\n",
       "    .dataframe tbody tr th {\n",
       "        vertical-align: top;\n",
       "    }\n",
       "\n",
       "    .dataframe thead th {\n",
       "        text-align: right;\n",
       "    }\n",
       "</style>\n",
       "<table border=\"1\" class=\"dataframe\">\n",
       "  <thead>\n",
       "    <tr style=\"text-align: right;\">\n",
       "      <th></th>\n",
       "      <th>Survived</th>\n",
       "      <th>Pclass</th>\n",
       "      <th>Sex</th>\n",
       "      <th>Age</th>\n",
       "      <th>SibSp</th>\n",
       "      <th>Parch</th>\n",
       "      <th>Fare</th>\n",
       "      <th>Embarked</th>\n",
       "      <th>Age_Category</th>\n",
       "      <th>Category</th>\n",
       "    </tr>\n",
       "  </thead>\n",
       "  <tbody>\n",
       "    <tr>\n",
       "      <th>0</th>\n",
       "      <td>0</td>\n",
       "      <td>3</td>\n",
       "      <td>male</td>\n",
       "      <td>22.0</td>\n",
       "      <td>1</td>\n",
       "      <td>0</td>\n",
       "      <td>7.2500</td>\n",
       "      <td>S</td>\n",
       "      <td>Middle Aged</td>\n",
       "      <td>Man</td>\n",
       "    </tr>\n",
       "    <tr>\n",
       "      <th>1</th>\n",
       "      <td>1</td>\n",
       "      <td>1</td>\n",
       "      <td>female</td>\n",
       "      <td>38.0</td>\n",
       "      <td>1</td>\n",
       "      <td>0</td>\n",
       "      <td>71.2833</td>\n",
       "      <td>C</td>\n",
       "      <td>Middle Aged</td>\n",
       "      <td>Woman</td>\n",
       "    </tr>\n",
       "    <tr>\n",
       "      <th>2</th>\n",
       "      <td>1</td>\n",
       "      <td>3</td>\n",
       "      <td>female</td>\n",
       "      <td>26.0</td>\n",
       "      <td>0</td>\n",
       "      <td>0</td>\n",
       "      <td>7.9250</td>\n",
       "      <td>S</td>\n",
       "      <td>Middle Aged</td>\n",
       "      <td>Woman</td>\n",
       "    </tr>\n",
       "    <tr>\n",
       "      <th>3</th>\n",
       "      <td>1</td>\n",
       "      <td>1</td>\n",
       "      <td>female</td>\n",
       "      <td>35.0</td>\n",
       "      <td>1</td>\n",
       "      <td>0</td>\n",
       "      <td>53.1000</td>\n",
       "      <td>S</td>\n",
       "      <td>Middle Aged</td>\n",
       "      <td>Woman</td>\n",
       "    </tr>\n",
       "    <tr>\n",
       "      <th>4</th>\n",
       "      <td>0</td>\n",
       "      <td>3</td>\n",
       "      <td>male</td>\n",
       "      <td>35.0</td>\n",
       "      <td>0</td>\n",
       "      <td>0</td>\n",
       "      <td>8.0500</td>\n",
       "      <td>S</td>\n",
       "      <td>Middle Aged</td>\n",
       "      <td>Man</td>\n",
       "    </tr>\n",
       "  </tbody>\n",
       "</table>\n",
       "</div>"
      ],
      "text/plain": [
       "   Survived  Pclass     Sex   Age  SibSp  Parch     Fare Embarked  \\\n",
       "0         0       3    male  22.0      1      0   7.2500        S   \n",
       "1         1       1  female  38.0      1      0  71.2833        C   \n",
       "2         1       3  female  26.0      0      0   7.9250        S   \n",
       "3         1       1  female  35.0      1      0  53.1000        S   \n",
       "4         0       3    male  35.0      0      0   8.0500        S   \n",
       "\n",
       "  Age_Category Category  \n",
       "0  Middle Aged      Man  \n",
       "1  Middle Aged    Woman  \n",
       "2  Middle Aged    Woman  \n",
       "3  Middle Aged    Woman  \n",
       "4  Middle Aged      Man  "
      ]
     },
     "execution_count": 75,
     "metadata": {},
     "output_type": "execute_result"
    }
   ],
   "source": [
    "cleaned_age_data.head()"
   ]
  },
  {
   "cell_type": "code",
   "execution_count": 78,
   "id": "b067de2f-af6e-43fa-a678-6953eb644ef2",
   "metadata": {},
   "outputs": [
    {
     "name": "stdout",
     "output_type": "stream",
     "text": [
      "Category  Survived\n",
      "Child     0            52\n",
      "          1            61\n",
      "Man       0           325\n",
      "          1            70\n",
      "Woman     0            47\n",
      "          1           157\n",
      "dtype: int64\n"
     ]
    }
   ],
   "source": [
    "print (cleaned_age_data.groupby(['Category', 'Survived']).size())"
   ]
  },
  {
   "cell_type": "markdown",
   "id": "230ff6ad-d874-4d4c-94e4-3b4083dd688d",
   "metadata": {},
   "source": [
    "#  Question 4\n",
    "How did children with nannies fare in comparison to children with parents. Did the nanny \"abandon\" children to save his/her own life?\n",
    "\n",
    "Need to review list for children with no parents. These will be children with nannies as stated in the data description\n",
    "Compare \"normal\" survival rate of children with parents against children with nannies\n",
    "Assumptions:\n",
    "\n",
    "If you're classified as a 'Child' (under 18) and have Parch > 0, then the value is associated to your Parents, eventhough it is possible to be under 18 and also have children\n",
    "\n",
    "Classifying people as 'Child' represented by those under 18 years old is applying today's standards to the 1900 century"
   ]
  },
  {
   "cell_type": "code",
   "execution_count": 84,
   "id": "cb4317c0-85b8-4f6d-8b6d-07e1e3217b09",
   "metadata": {},
   "outputs": [
    {
     "name": "stdout",
     "output_type": "stream",
     "text": [
      "Number of childern with nanny: 32\n",
      "Number of childern with nanny who survived: 16\n",
      "Number of childern with nanny: 81\n",
      "Number of childern with nanny who survived:\n"
     ]
    },
    {
     "name": "stderr",
     "output_type": "stream",
     "text": [
      "C:\\Users\\kusha\\AppData\\Local\\Temp\\ipykernel_32852\\3795561811.py:1: UserWarning: Boolean Series key will be reindexed to match DataFrame index.\n",
      "  children_with_nanny = cleaned_age_data[cleaned_age_data['Category']=='Child'][cleaned_age_data['Parch']==0]\n",
      "C:\\Users\\kusha\\AppData\\Local\\Temp\\ipykernel_32852\\3795561811.py:2: UserWarning: Boolean Series key will be reindexed to match DataFrame index.\n",
      "  children_with_parents = cleaned_age_data[cleaned_age_data['Category']=='Child'][cleaned_age_data['Parch'] > 0]\n"
     ]
    },
    {
     "data": {
      "text/plain": [
       "45"
      ]
     },
     "execution_count": 84,
     "metadata": {},
     "output_type": "execute_result"
    }
   ],
   "source": [
    "children_with_nanny = cleaned_age_data[cleaned_age_data['Category']=='Child'][cleaned_age_data['Parch']==0]\n",
    "children_with_parents = cleaned_age_data[cleaned_age_data['Category']=='Child'][cleaned_age_data['Parch'] > 0]\n",
    "\n",
    "print ('Number of childern with nanny:',children_with_nanny['Survived'].count())\n",
    "print ('Number of childern with nanny who survived:',children_with_nanny[children_with_nanny['Survived']==1]['Survived'].count())\n",
    "\n",
    "print ('Number of childern with nanny:',children_with_parents['Survived'].count())\n",
    "print ('Number of childern with nanny who survived:')\n",
    "children_with_parents[children_with_parents['Survived']==1]['Survived'].count()"
   ]
  },
  {
   "cell_type": "code",
   "execution_count": 86,
   "id": "06e9bed6-bb6f-47a9-b3c6-cde0c0b2e9b1",
   "metadata": {},
   "outputs": [
    {
     "name": "stdout",
     "output_type": "stream",
     "text": [
      "Percentage of children who survived with nanny: \n",
      "\n",
      "Mean age of children who survived with nanny: \n",
      "\n"
     ]
    },
    {
     "data": {
      "text/plain": [
       "14.6875"
      ]
     },
     "execution_count": 86,
     "metadata": {},
     "output_type": "execute_result"
    }
   ],
   "source": [
    "print ('Percentage of children who survived with nanny:',\"\\n\")\n",
    "(float(children_with_nanny[children_with_nanny['Survived']==1]['Survived'].count())/children_with_nanny['Survived'].count())*100\n",
    "\n",
    "print ('Mean age of children who survived with nanny:',\"\\n\")\n",
    "children_with_nanny[children_with_nanny['Survived']==1]['Age'].mean()"
   ]
  },
  {
   "cell_type": "code",
   "execution_count": 87,
   "id": "43ba1440-33f3-4b64-a80e-e53ff6ec4f5f",
   "metadata": {},
   "outputs": [
    {
     "name": "stdout",
     "output_type": "stream",
     "text": [
      "Percentage of children who survived with parents: \n",
      "\n",
      "Mean age of children who survived with parents: \n",
      "\n"
     ]
    },
    {
     "data": {
      "text/plain": [
       "5.470444444444444"
      ]
     },
     "execution_count": 87,
     "metadata": {},
     "output_type": "execute_result"
    }
   ],
   "source": [
    "print ('Percentage of children who survived with parents:',\"\\n\")\n",
    "(float(children_with_parents[children_with_parents['Survived']==1]['Survived'].count())/\\\n",
    "children_with_parents['Survived'].count())*100\n",
    "\n",
    "print ('Mean age of children who survived with parents:',\"\\n\")\n",
    "children_with_parents[children_with_parents['Survived']==1]['Age'].mean()"
   ]
  },
  {
   "cell_type": "code",
   "execution_count": 88,
   "id": "d9ce1128-642d-4558-8724-c81c2685c9f7",
   "metadata": {},
   "outputs": [
    {
     "name": "stderr",
     "output_type": "stream",
     "text": [
      "C:\\Users\\kusha\\AppData\\Local\\Temp\\ipykernel_32852\\2339368480.py:1: SettingWithCopyWarning: \n",
      "A value is trying to be set on a copy of a slice from a DataFrame.\n",
      "Try using .loc[row_indexer,col_indexer] = value instead\n",
      "\n",
      "See the caveats in the documentation: https://pandas.pydata.org/pandas-docs/stable/user_guide/indexing.html#returning-a-view-versus-a-copy\n",
      "  cleaned_age_data.loc[((cleaned_age_data['Parch']==0) & (cleaned_age_data['Category']=='Child')), 'nanny_parents'] = 'With_nanny'\n"
     ]
    },
    {
     "data": {
      "text/html": [
       "<div>\n",
       "<style scoped>\n",
       "    .dataframe tbody tr th:only-of-type {\n",
       "        vertical-align: middle;\n",
       "    }\n",
       "\n",
       "    .dataframe tbody tr th {\n",
       "        vertical-align: top;\n",
       "    }\n",
       "\n",
       "    .dataframe thead th {\n",
       "        text-align: right;\n",
       "    }\n",
       "</style>\n",
       "<table border=\"1\" class=\"dataframe\">\n",
       "  <thead>\n",
       "    <tr style=\"text-align: right;\">\n",
       "      <th></th>\n",
       "      <th>Survived</th>\n",
       "      <th>Pclass</th>\n",
       "      <th>Sex</th>\n",
       "      <th>Age</th>\n",
       "      <th>SibSp</th>\n",
       "      <th>Parch</th>\n",
       "      <th>Fare</th>\n",
       "      <th>Embarked</th>\n",
       "      <th>Age_Category</th>\n",
       "      <th>Category</th>\n",
       "      <th>nanny_parents</th>\n",
       "    </tr>\n",
       "  </thead>\n",
       "  <tbody>\n",
       "    <tr>\n",
       "      <th>0</th>\n",
       "      <td>0</td>\n",
       "      <td>3</td>\n",
       "      <td>male</td>\n",
       "      <td>22.0</td>\n",
       "      <td>1</td>\n",
       "      <td>0</td>\n",
       "      <td>7.2500</td>\n",
       "      <td>S</td>\n",
       "      <td>Middle Aged</td>\n",
       "      <td>Man</td>\n",
       "      <td>NaN</td>\n",
       "    </tr>\n",
       "    <tr>\n",
       "      <th>1</th>\n",
       "      <td>1</td>\n",
       "      <td>1</td>\n",
       "      <td>female</td>\n",
       "      <td>38.0</td>\n",
       "      <td>1</td>\n",
       "      <td>0</td>\n",
       "      <td>71.2833</td>\n",
       "      <td>C</td>\n",
       "      <td>Middle Aged</td>\n",
       "      <td>Woman</td>\n",
       "      <td>NaN</td>\n",
       "    </tr>\n",
       "    <tr>\n",
       "      <th>2</th>\n",
       "      <td>1</td>\n",
       "      <td>3</td>\n",
       "      <td>female</td>\n",
       "      <td>26.0</td>\n",
       "      <td>0</td>\n",
       "      <td>0</td>\n",
       "      <td>7.9250</td>\n",
       "      <td>S</td>\n",
       "      <td>Middle Aged</td>\n",
       "      <td>Woman</td>\n",
       "      <td>NaN</td>\n",
       "    </tr>\n",
       "    <tr>\n",
       "      <th>3</th>\n",
       "      <td>1</td>\n",
       "      <td>1</td>\n",
       "      <td>female</td>\n",
       "      <td>35.0</td>\n",
       "      <td>1</td>\n",
       "      <td>0</td>\n",
       "      <td>53.1000</td>\n",
       "      <td>S</td>\n",
       "      <td>Middle Aged</td>\n",
       "      <td>Woman</td>\n",
       "      <td>NaN</td>\n",
       "    </tr>\n",
       "    <tr>\n",
       "      <th>4</th>\n",
       "      <td>0</td>\n",
       "      <td>3</td>\n",
       "      <td>male</td>\n",
       "      <td>35.0</td>\n",
       "      <td>0</td>\n",
       "      <td>0</td>\n",
       "      <td>8.0500</td>\n",
       "      <td>S</td>\n",
       "      <td>Middle Aged</td>\n",
       "      <td>Man</td>\n",
       "      <td>NaN</td>\n",
       "    </tr>\n",
       "  </tbody>\n",
       "</table>\n",
       "</div>"
      ],
      "text/plain": [
       "   Survived  Pclass     Sex   Age  SibSp  Parch     Fare Embarked  \\\n",
       "0         0       3    male  22.0      1      0   7.2500        S   \n",
       "1         1       1  female  38.0      1      0  71.2833        C   \n",
       "2         1       3  female  26.0      0      0   7.9250        S   \n",
       "3         1       1  female  35.0      1      0  53.1000        S   \n",
       "4         0       3    male  35.0      0      0   8.0500        S   \n",
       "\n",
       "  Age_Category Category nanny_parents  \n",
       "0  Middle Aged      Man           NaN  \n",
       "1  Middle Aged    Woman           NaN  \n",
       "2  Middle Aged    Woman           NaN  \n",
       "3  Middle Aged    Woman           NaN  \n",
       "4  Middle Aged      Man           NaN  "
      ]
     },
     "execution_count": 88,
     "metadata": {},
     "output_type": "execute_result"
    }
   ],
   "source": [
    "cleaned_age_data.loc[((cleaned_age_data['Parch']==0) & (cleaned_age_data['Category']=='Child')), 'nanny_parents'] = 'With_nanny'\n",
    "cleaned_age_data.loc[((cleaned_age_data['Parch']>0) & (cleaned_age_data['Category']=='Child')),'nanny_parents']='Without_nanny'\n",
    "\n",
    "cleaned_age_data.head()"
   ]
  },
  {
   "cell_type": "markdown",
   "id": "97bb95d2-5b3a-4bc1-81ed-dc2a25dbe1a8",
   "metadata": {},
   "source": [
    "### Based on the data analysis above, it would appear that the survival rate for children who were accompanied by parents vs those children accompanied by nannies was slighly higher for those with parents. The slight increase could be due to the average age of children with parents being younger, almost half, that of children with nannies.\n",
    "\n",
    "Percentage of children with nannies who survived: 50.0%, \n",
    "Percentage of children with parents who survived: 55.56%, \n",
    "Average age of surviving children with nannies: 15,  \n",
    "Average age of surviving children with parents: 7.0"
   ]
  },
  {
   "cell_type": "markdown",
   "id": "5b3da3b2-ccb0-42e4-b0c2-173b9498eb99",
   "metadata": {},
   "source": [
    "### Conclusion\n",
    "The results of the analysis, although tentative, would appear to indicate that class and sex, namely, being a female with upper social-economic standing (first class), would give one the best chance of survival when the tragedy occurred on the Titanic. Age did not seem to be a major factor. While being a man in third class, gave one the lowest chance of survival. Women and children, across all classes, tend to have a higher survival rate than men in general but by no means did being a child or woman guarentee survival. Although, overall, children accompanied by parents (or nannies) had the best survival rate at over 50%"
   ]
  },
  {
   "cell_type": "code",
   "execution_count": null,
   "id": "3d9f32c7-2e7a-4792-a2f3-3006f56917ff",
   "metadata": {},
   "outputs": [],
   "source": []
  }
 ],
 "metadata": {
  "kernelspec": {
   "display_name": "Python [conda env:base] *",
   "language": "python",
   "name": "conda-base-py"
  },
  "language_info": {
   "codemirror_mode": {
    "name": "ipython",
    "version": 3
   },
   "file_extension": ".py",
   "mimetype": "text/x-python",
   "name": "python",
   "nbconvert_exporter": "python",
   "pygments_lexer": "ipython3",
   "version": "3.12.7"
  }
 },
 "nbformat": 4,
 "nbformat_minor": 5
}
